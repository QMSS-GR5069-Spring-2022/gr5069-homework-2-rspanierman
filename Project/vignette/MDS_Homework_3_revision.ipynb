{
 "cells": [
  {
   "cell_type": "code",
   "execution_count": 1,
   "metadata": {},
   "outputs": [],
   "source": [
    "# import modules\n",
    "import numpy as np\n",
    "import pandas as pd"
   ]
  },
  {
   "cell_type": "markdown",
   "metadata": {},
   "source": [
    "## 1) Cost of the event"
   ]
  },
  {
   "cell_type": "markdown",
   "metadata": {},
   "source": [
    "**a)** Provide a python function called `cost_of_event` that takes as parameters:  \n",
    "  - `num_of_people`: the number of people attending the event  \n",
    "  - `type`: type of the event could be `wedding`, `private` or `corporate`  \n",
    "  - `cost`: cost per person in USD.  \n",
    "  \n",
    "  Set reasonable default parameters for `type` and `cost` but do not set a default for `num_of_people`.  Since weddings are especially difficult for an event planner they cost 50\\% extra.\n",
    "  \n",
    "  The function should return the total cost as a number (float). Show the function output for a wedding with 150 people at a cost of $450 per person."
   ]
  },
  {
   "cell_type": "code",
   "execution_count": 2,
   "metadata": {},
   "outputs": [],
   "source": [
    "def cost_of_event(num_of_people, type=\"private\", cost = 400):\n",
    "    \n",
    "    if type == \"wedding\":\n",
    "        cost_of_event = (num_of_people * cost * 1.5)\n",
    "        return print(\n",
    "            \"Type of event:\", type,\n",
    "            \"Cost of event:\", cost_of_event,\n",
    "            \"Number of guests:\", num_of_people,\n",
    "            \"Cost per person:\", cost\n",
    "            ) \n",
    "\n",
    "    if type == \"private\":\n",
    "        cost_of_event = (num_of_people * cost)\n",
    "        return print(\n",
    "            \"Type of event:\", type,\n",
    "            \"Cost of event:\", cost_of_event,\n",
    "            \"Number of guests:\", num_of_people,\n",
    "            \"Cost per person:\", cost\n",
    "            ) \n",
    "\n",
    "    if type == \"corporate\":\n",
    "        cost_of_event = (num_of_people * cost)\n",
    "        return print(\n",
    "            \"Type of event:\", type,\n",
    "            \"Cost of event:\", cost_of_event,\n",
    "            \"Number of guests:\", num_of_people,\n",
    "            \"Cost per person:\", cost\n",
    "            ) \n",
    "    else: \n",
    "        return \"Sorry, we do not offer services for this type of event.\""
   ]
  },
  {
   "cell_type": "code",
   "execution_count": 3,
   "metadata": {},
   "outputs": [
    {
     "name": "stdout",
     "output_type": "stream",
     "text": [
      "Type of event: wedding Cost of event: 101250.0 Number of guests: 150 Cost per person: 450\n"
     ]
    }
   ],
   "source": [
    "# a test for the pre-defined function cost_of_event\n",
    "cost_of_event(150, \"wedding\", 450)"
   ]
  },
  {
   "cell_type": "code",
   "execution_count": 4,
   "metadata": {},
   "outputs": [
    {
     "data": {
      "text/plain": [
       "'Sorry, we do not offer services for this type of event.'"
      ]
     },
     "execution_count": 4,
     "metadata": {},
     "output_type": "execute_result"
    }
   ],
   "source": [
    "# only the three specified types are allowed in function cost_of_event \n",
    "cost_of_event(200, \"bday\", 200)"
   ]
  },
  {
   "cell_type": "markdown",
   "metadata": {},
   "source": [
    "**b)** We now want to provide information on the applicable sales tax as well. Write a separate function called `sales_tax` which takes in the value of an event and returns the total amount of sales tax. Make sure this function has a `tax_rate` parameter and set the default to 10 percent. Unfortunately, this particular state has an odd tax law that taxes some events progressively. Private events (including weddings) up to \\\\$1000 total cost are tax free but for any event total cost that exceeds \\\\$1000 the sales tax applies. Corporate events are always taxed, regardless of the total cost. For example, a wedding costing \\\\$3000 would have an added sales tax of (3000-1000)\\*10\\%=\\\\$200, whereas the same corporate event would have a sales tax of 3000\\*10\\%=\\\\$300 applied.\n",
    "\n",
    "Print the result of your function for a private event and corporate event each costing \\\\$5000."
   ]
  },
  {
   "cell_type": "code",
   "execution_count": 5,
   "metadata": {},
   "outputs": [],
   "source": [
    "def sales_tax(cost_of_event, type, tax_rate = 0.1):\n",
    "    if type == \"private\":\n",
    "        if cost_of_event > 1000:\n",
    "            sales_tax = (cost_of_event - 1000) * tax_rate\n",
    "            return print(\"Sales tax:\", sales_tax)\n",
    "        else: \n",
    "            return 0\n",
    "    if type == \"wedding\":\n",
    "        if cost_of_event > 1000:\n",
    "            sales_tax = (cost_of_event - 1000) * tax_rate\n",
    "            return print(\"Sales tax:\", sales_tax)\n",
    "        else:\n",
    "            return 0\n",
    "    if type == \"corporate\": \n",
    "        sales_tax = cost_of_event * tax_rate\n",
    "        return print(\"Sales tax:\", sales_tax)\n",
    "    else: \n",
    "        return \"Sorry, we do not offer services for this type of event.\""
   ]
  },
  {
   "cell_type": "code",
   "execution_count": 6,
   "metadata": {},
   "outputs": [
    {
     "name": "stdout",
     "output_type": "stream",
     "text": [
      "Sales tax: 400.0\n"
     ]
    }
   ],
   "source": [
    "# a test for the pre-defined function sales_tax\n",
    "sales_tax(5000, \"private\")"
   ]
  },
  {
   "cell_type": "code",
   "execution_count": 7,
   "metadata": {},
   "outputs": [
    {
     "name": "stdout",
     "output_type": "stream",
     "text": [
      "Sales tax: 500.0\n"
     ]
    }
   ],
   "source": [
    "# another test for the pre-defined function sales_tax\n",
    "sales_tax(5000, \"corporate\")"
   ]
  },
  {
   "cell_type": "markdown",
   "metadata": {},
   "source": [
    "**c)** Now combine the functions `cost_of_event` and `sales_tax` into a third function called `event_calculator`. The function `event_calculator` only has one required input, `num_of_people`, but also allows for an optional set of additional keyword arguments that can be passed to the relevant two sub-functions. This function now also prints to the console and should include the following printout:\n",
    "  \n",
    "    Total number of guests: \n",
    "    Type of event:\n",
    "    Cost per person:\n",
    "    ---------------------------\n",
    "    Cost of event:\n",
    "    Sales tax:\n",
    "    ---------------------------\n",
    "    Total cost: \n",
    "    \n",
    "  Show the result of the function for a corporate event with 100 people at a cost of \\$75 per person and a sales tax rate of 8\\%."
   ]
  },
  {
   "cell_type": "code",
   "execution_count": 18,
   "metadata": {},
   "outputs": [],
   "source": [
    "def event_calc(num_of_people, type = \"private\", cost = 400, tax_rate = .1):\n",
    "        \n",
    "    if type == \"wedding\":\n",
    "        cost_of_event = (num_of_people * cost * 1.5)\n",
    "        if cost_of_event > 1000:\n",
    "            sales_tax = (cost_of_event - 1000) * tax_rate\n",
    "        else:\n",
    "            sales_tax = 0\n",
    "        return print(\n",
    "            \"Type of event:\", type,\n",
    "            \"Cost of event:\", cost_of_event,\n",
    "            \"Number of guests:\", num_of_people,\n",
    "            \"Cost per person:\", cost,\n",
    "            \"Sales tax:\", sales_tax,\n",
    "            \"Total cost:\", cost_of_event + sales_tax\n",
    "                ) \n",
    "\n",
    "    if type == \"private\":\n",
    "        cost_of_event = (num_of_people * cost)\n",
    "        if cost_of_event > 1000:\n",
    "            sales_tax = (cost_of_event - 1000) * tax_rate\n",
    "        else:\n",
    "            sales_tax = 0\n",
    "        return print(\n",
    "            \"Type of event:\", type,\n",
    "            \"Cost of event:\", cost_of_event,\n",
    "            \"Number of guests:\", num_of_people,\n",
    "            \"Cost per person:\", cost,\n",
    "            \"Sales tax:\", sales_tax,\n",
    "            \"Total cost:\", cost_of_event + sales_tax\n",
    "                ) \n",
    "\n",
    "    if type == \"corporate\":\n",
    "        cost_of_event = (num_of_people * cost)\n",
    "        sales_tax = cost_of_event * tax_rate\n",
    "        return print(\n",
    "            \"Type of event:\", type,\n",
    "            \"Cost of event:\", cost_of_event,\n",
    "            \"Number of guests:\", num_of_people,\n",
    "            \"Cost per person:\", cost,\n",
    "            \"Sales tax:\", sales_tax,\n",
    "            \"Total cost:\", cost_of_event + sales_tax\n",
    "                ) \n",
    "    else: \n",
    "        return \"Sorry, we do not offer services for this type of event.\"\n"
   ]
  },
  {
   "cell_type": "code",
   "execution_count": 19,
   "metadata": {},
   "outputs": [
    {
     "name": "stdout",
     "output_type": "stream",
     "text": [
      "Type of event: wedding Cost of event: 11250.0 Number of guests: 100 Cost per person: 75 Sales tax: 820.0 Total cost: 12070.0\n"
     ]
    }
   ],
   "source": [
    "# a test for the pre-defined function event_calc\n",
    "event_calc(100, \"wedding\", 75, 0.08)"
   ]
  },
  {
   "cell_type": "markdown",
   "metadata": {},
   "source": [
    "## Error Handling"
   ]
  },
  {
   "cell_type": "markdown",
   "metadata": {},
   "source": [
    "**a)** Your friend was happy about your work but recently noticed some issues. She asks you to make sure that the `event_calculator` function only accepts:  \n",
    "  - a non-negative cost per person\n",
    "  - a sales tax ranging from 0 to 25%\n",
    "  - the types of events you planned for in your function  \n",
    "\n",
    "Add assertions (in any place you find appropriate) that warn a user when either of these requirements are not fulfilled. Make sure the user knows what went wrong by providing a description of what input is incorrect.\n",
    "\n",
    "  Show the result of the function for an event of type `bachelor party`.  \n",
    "  Show the result of the function for an event with `cost` = -10."
   ]
  },
  {
   "cell_type": "code",
   "execution_count": 10,
   "metadata": {},
   "outputs": [],
   "source": [
    "def event_calc(num_of_people, type = \"private\", cost = 400, tax_rate = 0.1):\n",
    "    assert cost > 0, \"Negative cost per person values are not allowed.\"\n",
    "    assert 0 < tax_rate < .25, \"Tax rate must be between 0 and 0.25\"\n",
    "    type_condition = [\"wedding\", \"corporate\", \"private\"]\n",
    "    assert type == type_condition, \"Type must be 'wedding','corporate' or 'private'\"\n",
    "    \n",
    "           \n",
    "    if type == \"wedding\":\n",
    "        cost_of_event = (num_of_people * cost * 1.5)\n",
    "        if cost_of_event > 1000:\n",
    "            sales_tax = (cost_of_event - 1000) * tax_rate\n",
    "        else:\n",
    "            sales_tax = 0\n",
    "        return print(\n",
    "            \"Type of event:\", type, \n",
    "            \"Cost of event:\", cost_of_event,\n",
    "            \"Number of guests:\", num_of_people,\n",
    "            \"Cost per person:\", cost,\n",
    "            \"Sales tax:\", sales_tax,\n",
    "            \"Total cost:\", cost_of_event + sales_tax\n",
    "                ) \n",
    "\n",
    "    if type == \"private\":\n",
    "        cost_of_event = (num_of_people * cost)\n",
    "        if cost_of_event > 1000:\n",
    "            sales_tax = (cost_of_event - 1000) * tax_rate\n",
    "        else:\n",
    "            sales_tax = 0\n",
    "        return print(\n",
    "            \"Type of event:\", type,\n",
    "            \"Cost of event:\", cost_of_event,\n",
    "            \"Number of guests:\", num_of_people,\n",
    "            \"Cost per person:\", cost,\n",
    "            \"Sales tax:\", sales_tax,\n",
    "            \"Total cost:\", cost_of_event + sales_tax\n",
    "                ) \n",
    "\n",
    "    if type == \"corporate\":\n",
    "        cost_of_event = (num_of_people * cost)\n",
    "        sales_tax = cost_of_event * tax_rate\n",
    "        return print(\n",
    "            \"Type of event:\", type,\n",
    "            \"Cost of event:\", cost_of_event,\n",
    "            \"Number of guests:\", num_of_people,\n",
    "            \"Cost per person:\", cost,        \n",
    "            \"Sales tax:\", sales_tax,\n",
    "            \"Total cost:\", cost_of_event + sales_tax\n",
    "                ) \n",
    "   "
   ]
  },
  {
   "cell_type": "code",
   "execution_count": 11,
   "metadata": {},
   "outputs": [
    {
     "ename": "AssertionError",
     "evalue": "Tax rate must be between 0 and 0.25",
     "output_type": "error",
     "traceback": [
      "\u001b[0;31m---------------------------------------------------------------------------\u001b[0m",
      "\u001b[0;31mAssertionError\u001b[0m                            Traceback (most recent call last)",
      "\u001b[0;32m<ipython-input-11-7b2693cc7ad7>\u001b[0m in \u001b[0;36m<module>\u001b[0;34m\u001b[0m\n\u001b[0;32m----> 1\u001b[0;31m \u001b[0mevent_calc\u001b[0m\u001b[0;34m(\u001b[0m\u001b[0;36m100\u001b[0m\u001b[0;34m,\u001b[0m \u001b[0;34m\"bachelor party\"\u001b[0m\u001b[0;34m,\u001b[0m\u001b[0;36m200\u001b[0m\u001b[0;34m,\u001b[0m\u001b[0;36m0.3\u001b[0m\u001b[0;34m)\u001b[0m\u001b[0;34m\u001b[0m\u001b[0;34m\u001b[0m\u001b[0m\n\u001b[0m",
      "\u001b[0;32m<ipython-input-10-e2dc3ac47744>\u001b[0m in \u001b[0;36mevent_calc\u001b[0;34m(num_of_people, type, cost, tax_rate)\u001b[0m\n\u001b[1;32m      1\u001b[0m \u001b[0;32mdef\u001b[0m \u001b[0mevent_calc\u001b[0m\u001b[0;34m(\u001b[0m\u001b[0mnum_of_people\u001b[0m\u001b[0;34m,\u001b[0m \u001b[0mtype\u001b[0m\u001b[0;34m=\u001b[0m\u001b[0;34m\"private\"\u001b[0m\u001b[0;34m,\u001b[0m \u001b[0mcost\u001b[0m\u001b[0;34m=\u001b[0m\u001b[0;36m400\u001b[0m\u001b[0;34m,\u001b[0m \u001b[0mtax_rate\u001b[0m\u001b[0;34m=\u001b[0m\u001b[0;36m0.1\u001b[0m\u001b[0;34m)\u001b[0m\u001b[0;34m:\u001b[0m\u001b[0;34m\u001b[0m\u001b[0;34m\u001b[0m\u001b[0m\n\u001b[1;32m      2\u001b[0m     \u001b[0;32massert\u001b[0m \u001b[0mcost\u001b[0m \u001b[0;34m>\u001b[0m \u001b[0;36m0\u001b[0m\u001b[0;34m,\u001b[0m \u001b[0;34m\"Negative cost per person values are not allowed.\"\u001b[0m\u001b[0;34m\u001b[0m\u001b[0;34m\u001b[0m\u001b[0m\n\u001b[0;32m----> 3\u001b[0;31m     \u001b[0;32massert\u001b[0m \u001b[0;36m0\u001b[0m \u001b[0;34m<\u001b[0m \u001b[0mtax_rate\u001b[0m \u001b[0;34m<\u001b[0m \u001b[0;36m.25\u001b[0m\u001b[0;34m,\u001b[0m \u001b[0;34m\"Tax rate must be between 0 and 0.25\"\u001b[0m\u001b[0;34m\u001b[0m\u001b[0;34m\u001b[0m\u001b[0m\n\u001b[0m\u001b[1;32m      4\u001b[0m     \u001b[0mtype_condition\u001b[0m \u001b[0;34m=\u001b[0m \u001b[0;34m[\u001b[0m\u001b[0;34m\"wedding\"\u001b[0m\u001b[0;34m,\u001b[0m \u001b[0;34m\"corporate\"\u001b[0m\u001b[0;34m,\u001b[0m \u001b[0;34m\"private\"\u001b[0m\u001b[0;34m]\u001b[0m\u001b[0;34m\u001b[0m\u001b[0;34m\u001b[0m\u001b[0m\n\u001b[1;32m      5\u001b[0m     \u001b[0;32massert\u001b[0m \u001b[0mtype\u001b[0m \u001b[0;34m==\u001b[0m \u001b[0mtype_condition\u001b[0m\u001b[0;34m,\u001b[0m \u001b[0;34m\"Type must be 'wedding','corporate' or 'private'\"\u001b[0m\u001b[0;34m\u001b[0m\u001b[0;34m\u001b[0m\u001b[0m\n",
      "\u001b[0;31mAssertionError\u001b[0m: Tax rate must be between 0 and 0.25"
     ]
    }
   ],
   "source": [
    "# check to see if a right warning occurs with a wrong event type\n",
    "event_calc(100, \"bachelor party\", 200, 0.3)"
   ]
  },
  {
   "cell_type": "code",
   "execution_count": 12,
   "metadata": {},
   "outputs": [
    {
     "ename": "AssertionError",
     "evalue": "Negative cost per person values are not allowed.",
     "output_type": "error",
     "traceback": [
      "\u001b[0;31m---------------------------------------------------------------------------\u001b[0m",
      "\u001b[0;31mAssertionError\u001b[0m                            Traceback (most recent call last)",
      "\u001b[0;32m<ipython-input-12-c3c375a9d51a>\u001b[0m in \u001b[0;36m<module>\u001b[0;34m\u001b[0m\n\u001b[0;32m----> 1\u001b[0;31m \u001b[0mevent_calc\u001b[0m\u001b[0;34m(\u001b[0m\u001b[0;36m100\u001b[0m\u001b[0;34m,\u001b[0m\u001b[0;34m\"wedding\"\u001b[0m\u001b[0;34m,\u001b[0m\u001b[0;34m-\u001b[0m\u001b[0;36m10\u001b[0m\u001b[0;34m)\u001b[0m\u001b[0;34m\u001b[0m\u001b[0;34m\u001b[0m\u001b[0m\n\u001b[0m",
      "\u001b[0;32m<ipython-input-10-e2dc3ac47744>\u001b[0m in \u001b[0;36mevent_calc\u001b[0;34m(num_of_people, type, cost, tax_rate)\u001b[0m\n\u001b[1;32m      1\u001b[0m \u001b[0;32mdef\u001b[0m \u001b[0mevent_calc\u001b[0m\u001b[0;34m(\u001b[0m\u001b[0mnum_of_people\u001b[0m\u001b[0;34m,\u001b[0m \u001b[0mtype\u001b[0m\u001b[0;34m=\u001b[0m\u001b[0;34m\"private\"\u001b[0m\u001b[0;34m,\u001b[0m \u001b[0mcost\u001b[0m\u001b[0;34m=\u001b[0m\u001b[0;36m400\u001b[0m\u001b[0;34m,\u001b[0m \u001b[0mtax_rate\u001b[0m\u001b[0;34m=\u001b[0m\u001b[0;36m0.1\u001b[0m\u001b[0;34m)\u001b[0m\u001b[0;34m:\u001b[0m\u001b[0;34m\u001b[0m\u001b[0;34m\u001b[0m\u001b[0m\n\u001b[0;32m----> 2\u001b[0;31m     \u001b[0;32massert\u001b[0m \u001b[0mcost\u001b[0m \u001b[0;34m>\u001b[0m \u001b[0;36m0\u001b[0m\u001b[0;34m,\u001b[0m \u001b[0;34m\"Negative cost per person values are not allowed.\"\u001b[0m\u001b[0;34m\u001b[0m\u001b[0;34m\u001b[0m\u001b[0m\n\u001b[0m\u001b[1;32m      3\u001b[0m     \u001b[0;32massert\u001b[0m \u001b[0;36m0\u001b[0m \u001b[0;34m<\u001b[0m \u001b[0mtax_rate\u001b[0m \u001b[0;34m<\u001b[0m \u001b[0;36m.25\u001b[0m\u001b[0;34m,\u001b[0m \u001b[0;34m\"Tax rate must be between 0 and 0.25\"\u001b[0m\u001b[0;34m\u001b[0m\u001b[0;34m\u001b[0m\u001b[0m\n\u001b[1;32m      4\u001b[0m     \u001b[0mtype_condition\u001b[0m \u001b[0;34m=\u001b[0m \u001b[0;34m[\u001b[0m\u001b[0;34m\"wedding\"\u001b[0m\u001b[0;34m,\u001b[0m \u001b[0;34m\"corporate\"\u001b[0m\u001b[0;34m,\u001b[0m \u001b[0;34m\"private\"\u001b[0m\u001b[0;34m]\u001b[0m\u001b[0;34m\u001b[0m\u001b[0;34m\u001b[0m\u001b[0m\n\u001b[1;32m      5\u001b[0m     \u001b[0;32massert\u001b[0m \u001b[0mtype\u001b[0m \u001b[0;34m==\u001b[0m \u001b[0mtype_condition\u001b[0m\u001b[0;34m,\u001b[0m \u001b[0;34m\"Type must be 'wedding','corporate' or 'private'\"\u001b[0m\u001b[0;34m\u001b[0m\u001b[0;34m\u001b[0m\u001b[0m\n",
      "\u001b[0;31mAssertionError\u001b[0m: Negative cost per person values are not allowed."
     ]
    }
   ],
   "source": [
    "# check to see if a right warning occurs with a negtive cost per person\n",
    "event_calc(100, \"wedding\", -10)"
   ]
  },
  {
   "cell_type": "markdown",
   "metadata": {},
   "source": [
    "**b)** Your friend does like that no erroneous values come through anymore but her customers don't really understand your Python generated warnings. Remove the assertions from (2a) and use a `try`-`except` setup to catch all errors that arise and simply ask the user (via a printed message) to `Please check your input values.`\n",
    "\n",
    "  Print the result of the function for an event with a negative sales tax rate as the input."
   ]
  },
  {
   "cell_type": "code",
   "execution_count": 15,
   "metadata": {},
   "outputs": [],
   "source": [
    "def event_calc1(num_of_people, type = \"wedding\", cost = 450, tax_rate = 0.1):\n",
    "    \n",
    "    type_condition = [\"wedding\", \"corporate\", \"private\"]\n",
    "    \n",
    "    if cost < 0 or type not in [\"wedding\", \"corporate\", \"private\"] or tax_rate < 0 or tax_rate > .25:\n",
    "        \n",
    "        raise Exception(\"Please check your input values.\")\n",
    "        \n",
    "    if type == \"wedding\":\n",
    "        cost_of_event = (num_of_people * cost * 1.5)            \n",
    "        if cost_of_event > 1000:\n",
    "            sales_tax = (cost_of_event - 1000) * tax_rate\n",
    "        else:\n",
    "            sales_tax = 0   \n",
    "        return print(\n",
    "            \"Type of event:\", type, \n",
    "            \"Cost of event:\", cost_of_event,\n",
    "            \"Number of guests:\", num_of_people,\n",
    "            \"Cost per person:\", cost,\n",
    "            \"Sales tax:\", sales_tax,\n",
    "            \"Total cost:\", cost_of_event + sales_tax\n",
    "                ) \n",
    "\n",
    "    if type == \"private\":\n",
    "        cost_of_event = (num_of_people * cost)\n",
    "        if cost_of_event > 1000:\n",
    "            sales_tax = (cost_of_event - 1000) * tax_rate\n",
    "        else:\n",
    "            sales_tax = 0\n",
    "        return print(\n",
    "            \"Type of event:\", type,\n",
    "            \"Cost of event:\", cost_of_event,\n",
    "            \"Number of guests:\", num_of_people,\n",
    "            \"Cost per person:\", cost,\n",
    "            \"Sales tax:\", sales_tax,\n",
    "            \"Total cost:\", cost_of_event + sales_tax\n",
    "                ) \n",
    "\n",
    "    if type == \"corporate\":\n",
    "        cost_of_event = (num_of_people * cost)\n",
    "        sales_tax = cost_of_event * tax_rate\n",
    "        return print(\n",
    "            \"Type of event:\", type,\n",
    "            \"Cost of event:\", cost_of_event,\n",
    "            \"Number of guests:\", num_of_people,\n",
    "            \"Cost per person:\", cost,        \n",
    "            \"Sales tax:\", sales_tax,\n",
    "            \"Total cost:\", cost_of_event + sales_tax\n",
    "               )"
   ]
  },
  {
   "cell_type": "code",
   "execution_count": 16,
   "metadata": {},
   "outputs": [
    {
     "ename": "Exception",
     "evalue": "Please check your input values.",
     "output_type": "error",
     "traceback": [
      "\u001b[0;31m---------------------------------------------------------------------------\u001b[0m",
      "\u001b[0;31mException\u001b[0m                                 Traceback (most recent call last)",
      "\u001b[0;32m<ipython-input-16-fb79cacf45a6>\u001b[0m in \u001b[0;36m<module>\u001b[0;34m\u001b[0m\n\u001b[0;32m----> 1\u001b[0;31m \u001b[0mevent_calc1\u001b[0m\u001b[0;34m(\u001b[0m\u001b[0;36m100\u001b[0m\u001b[0;34m,\u001b[0m\u001b[0;34m\"wedding\"\u001b[0m\u001b[0;34m,\u001b[0m\u001b[0;36m120\u001b[0m\u001b[0;34m,\u001b[0m\u001b[0;34m-\u001b[0m\u001b[0;36m0.1\u001b[0m\u001b[0;34m)\u001b[0m\u001b[0;34m\u001b[0m\u001b[0;34m\u001b[0m\u001b[0m\n\u001b[0m",
      "\u001b[0;32m<ipython-input-15-b0789577d47b>\u001b[0m in \u001b[0;36mevent_calc1\u001b[0;34m(num_of_people, type, cost, tax_rate)\u001b[0m\n\u001b[1;32m      5\u001b[0m     \u001b[0;32mif\u001b[0m \u001b[0mcost\u001b[0m \u001b[0;34m<\u001b[0m \u001b[0;36m0\u001b[0m \u001b[0;32mor\u001b[0m \u001b[0mtype\u001b[0m \u001b[0;32mnot\u001b[0m \u001b[0;32min\u001b[0m \u001b[0;34m[\u001b[0m\u001b[0;34m\"wedding\"\u001b[0m\u001b[0;34m,\u001b[0m \u001b[0;34m\"corporate\"\u001b[0m\u001b[0;34m,\u001b[0m \u001b[0;34m\"private\"\u001b[0m\u001b[0;34m]\u001b[0m \u001b[0;32mor\u001b[0m \u001b[0mtax_rate\u001b[0m \u001b[0;34m<\u001b[0m \u001b[0;36m0\u001b[0m \u001b[0;32mor\u001b[0m \u001b[0mtax_rate\u001b[0m \u001b[0;34m>\u001b[0m \u001b[0;36m.25\u001b[0m\u001b[0;34m:\u001b[0m\u001b[0;34m\u001b[0m\u001b[0;34m\u001b[0m\u001b[0m\n\u001b[1;32m      6\u001b[0m \u001b[0;34m\u001b[0m\u001b[0m\n\u001b[0;32m----> 7\u001b[0;31m         \u001b[0;32mraise\u001b[0m \u001b[0mException\u001b[0m\u001b[0;34m(\u001b[0m\u001b[0;34m\"Please check your input values.\"\u001b[0m\u001b[0;34m)\u001b[0m\u001b[0;34m\u001b[0m\u001b[0;34m\u001b[0m\u001b[0m\n\u001b[0m\u001b[1;32m      8\u001b[0m \u001b[0;34m\u001b[0m\u001b[0m\n\u001b[1;32m      9\u001b[0m     \u001b[0;32mif\u001b[0m \u001b[0mtype\u001b[0m \u001b[0;34m==\u001b[0m \u001b[0;34m\"wedding\"\u001b[0m\u001b[0;34m:\u001b[0m\u001b[0;34m\u001b[0m\u001b[0;34m\u001b[0m\u001b[0m\n",
      "\u001b[0;31mException\u001b[0m: Please check your input values."
     ]
    }
   ],
   "source": [
    "# check to see if a warning would appear as a printed message  \n",
    "event_calc1(100, \"wedding\", 120, -0.1) "
   ]
  }
 ],
 "metadata": {
  "kernelspec": {
   "display_name": "Python 3",
   "language": "python",
   "name": "python3"
  },
  "language_info": {
   "codemirror_mode": {
    "name": "ipython",
    "version": 3
   },
   "file_extension": ".py",
   "mimetype": "text/x-python",
   "name": "python",
   "nbconvert_exporter": "python",
   "pygments_lexer": "ipython3",
   "version": "3.9.0"
  }
 },
 "nbformat": 4,
 "nbformat_minor": 4
}

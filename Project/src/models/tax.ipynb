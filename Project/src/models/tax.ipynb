{
 "cells": [
  {
   "cell_type": "code",
   "execution_count": null,
   "id": "9d345762",
   "metadata": {},
   "outputs": [],
   "source": [
    "def sales_tax(cost_of_event, type, tax_rate=0.1):\n",
    "    if type == \"private\":\n",
    "        if cost_of_event > 1000:\n",
    "            sales_tax = (cost_of_event-1000)*tax_rate\n",
    "            return print(\"Sales tax:\", sales_tax)\n",
    "        else: \n",
    "            return 0\n",
    "    if type == \"wedding\":\n",
    "        if cost_of_event > 1000:\n",
    "            sales_tax = (cost_of_event-1000)*tax_rate\n",
    "            return print(\"Sales tax:\", sales_tax)\n",
    "        else:\n",
    "            return 0\n",
    "    if type == \"corporate\": \n",
    "        sales_tax = cost_of_event*tax_rate\n",
    "        return print(\"Sales tax:\", sales_tax)\n",
    "    else: \n",
    "        return \"Sorry, we do not offer services for this type of event.\""
   ]
  }
 ],
 "metadata": {
  "kernelspec": {
   "display_name": "Python 3",
   "language": "python",
   "name": "python3"
  },
  "language_info": {
   "codemirror_mode": {
    "name": "ipython",
    "version": 3
   },
   "file_extension": ".py",
   "mimetype": "text/x-python",
   "name": "python",
   "nbconvert_exporter": "python",
   "pygments_lexer": "ipython3",
   "version": "3.9.0"
  }
 },
 "nbformat": 4,
 "nbformat_minor": 5
}

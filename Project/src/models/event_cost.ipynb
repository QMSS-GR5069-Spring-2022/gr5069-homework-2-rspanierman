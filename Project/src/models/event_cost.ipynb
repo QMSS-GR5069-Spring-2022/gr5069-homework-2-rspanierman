{
 "cells": [
  {
   "cell_type": "code",
   "execution_count": null,
   "id": "53683130",
   "metadata": {},
   "outputs": [],
   "source": [
    "def cost_of_event(num_of_people, type=\"private\", cost=400):\n",
    "    \n",
    "    if type == \"wedding\":\n",
    "        cost_of_event = (num_of_people*cost*1.5)\n",
    "        return print(\n",
    "            \"Type of event:\", type,\n",
    "            \"Cost of event:\", cost_of_event,\n",
    "            \"Number of guests:\",num_of_people,\n",
    "            \"Cost per person:\", cost\n",
    "            ) \n",
    "\n",
    "    if type == \"private\":\n",
    "        cost_of_event = (num_of_people*cost)\n",
    "        return print(\n",
    "            \"Type of event:\", type,\n",
    "            \"Cost of event:\", cost_of_event,\n",
    "            \"Number of guests:\",num_of_people,\n",
    "            \"Cost per person:\", cost\n",
    "            ) \n",
    "\n",
    "    if type == \"corporate\":\n",
    "        cost_of_event = (num_of_people*cost)\n",
    "        return print(\n",
    "            \"Type of event:\", type,\n",
    "            \"Cost of event:\", cost_of_event,\n",
    "            \"Number of guests:\",num_of_people,\n",
    "            \"Cost per person:\", cost\n",
    "            ) \n",
    "    else: \n",
    "        return \"Sorry, we do not offer services for this type of event.\""
   ]
  }
 ],
 "metadata": {
  "kernelspec": {
   "display_name": "Python 3",
   "language": "python",
   "name": "python3"
  },
  "language_info": {
   "codemirror_mode": {
    "name": "ipython",
    "version": 3
   },
   "file_extension": ".py",
   "mimetype": "text/x-python",
   "name": "python",
   "nbconvert_exporter": "python",
   "pygments_lexer": "ipython3",
   "version": "3.9.0"
  }
 },
 "nbformat": 4,
 "nbformat_minor": 5
}

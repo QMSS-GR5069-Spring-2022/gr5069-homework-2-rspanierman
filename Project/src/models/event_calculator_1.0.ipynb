{
 "cells": [
  {
   "cell_type": "code",
   "execution_count": null,
   "id": "4027bec7",
   "metadata": {},
   "outputs": [],
   "source": [
    "def event_calc(num_of_people, type=\"private\", cost=400, tax_rate=0.1):\n",
    "    assert cost > 0, \"Negative cost per person values are not allowed.\"\n",
    "    assert 0 < tax_rate < .25, \"Tax rate must be between 0 and 0.25\"\n",
    "    type_condition = [\"wedding\", \"corporate\", \"private\"]\n",
    "    assert type == type_condition, \"Type must be 'wedding','corporate' or 'private'\"\n",
    "    \n",
    "           \n",
    "    if type == \"wedding\":\n",
    "        cost_of_event = (num_of_people*cost*1.5)\n",
    "        if cost_of_event > 1000:\n",
    "            sales_tax = (cost_of_event-1000)*tax_rate\n",
    "        else:\n",
    "            sales_tax = 0\n",
    "        return print(\n",
    "            \"Type of event:\", type, \n",
    "            \"Cost of event:\", cost_of_event,\n",
    "            \"Number of guests:\",num_of_people,\n",
    "            \"Cost per person:\", cost,\n",
    "            \"Sales tax:\", sales_tax,\n",
    "            \"Total cost:\", cost_of_event+sales_tax\n",
    "                ) \n",
    "\n",
    "    if type == \"private\":\n",
    "        cost_of_event = (num_of_people*cost)\n",
    "        if cost_of_event > 1000:\n",
    "            sales_tax = (cost_of_event-1000)*tax_rate\n",
    "        else:\n",
    "            sales_tax = 0\n",
    "        return print(\n",
    "            \"Type of event:\", type,\n",
    "            \"Cost of event:\", cost_of_event,\n",
    "            \"Number of guests:\",num_of_people,\n",
    "            \"Cost per person:\", cost,\n",
    "            \"Sales tax:\", sales_tax,\n",
    "            \"Total cost:\", cost_of_event+sales_tax\n",
    "                ) \n",
    "\n",
    "    if type == \"corporate\":\n",
    "        cost_of_event = (num_of_people*cost)\n",
    "        sales_tax = cost_of_event*tax_rate\n",
    "        return print(\n",
    "            \"Type of event:\", type,\n",
    "            \"Cost of event:\", cost_of_event,\n",
    "            \"Number of guests:\",num_of_people,\n",
    "            \"Cost per person:\", cost,        \n",
    "            \"Sales tax:\", sales_tax,\n",
    "            \"Total cost:\", cost_of_event+sales_tax\n",
    "                ) "
   ]
  }
 ],
 "metadata": {
  "kernelspec": {
   "display_name": "Python 3",
   "language": "python",
   "name": "python3"
  },
  "language_info": {
   "codemirror_mode": {
    "name": "ipython",
    "version": 3
   },
   "file_extension": ".py",
   "mimetype": "text/x-python",
   "name": "python",
   "nbconvert_exporter": "python",
   "pygments_lexer": "ipython3",
   "version": "3.9.0"
  }
 },
 "nbformat": 4,
 "nbformat_minor": 5
}

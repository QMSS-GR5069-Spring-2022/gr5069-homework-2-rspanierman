{
 "cells": [
  {
   "cell_type": "code",
   "execution_count": null,
   "id": "76a6ab13",
   "metadata": {},
   "outputs": [],
   "source": [
    "def event_calc1(num_of_people, type=\"wedding\", cost=450, tax_rate=0.1):\n",
    "    \n",
    "    type_condition = [\"wedding\", \"corporate\", \"private\"]\n",
    "    \n",
    "    if cost < 0 or type not in [\"wedding\", \"corporate\", \"private\"] or tax_rate < 0 or tax_rate > .25:\n",
    "        \n",
    "        raise Exception(\"Please check your input values.\")\n",
    "        \n",
    "    if type == \"wedding\":\n",
    "        cost_of_event = (num_of_people*cost*1.5)            \n",
    "        if cost_of_event > 1000:\n",
    "            sales_tax = (cost_of_event-1000)*tax_rate\n",
    "        else:\n",
    "            sales_tax = 0   \n",
    "        return print(\n",
    "            \"Type of event:\", type, \n",
    "            \"Cost of event:\", cost_of_event,\n",
    "            \"Number of guests:\",num_of_people,\n",
    "            \"Cost per person:\", cost,\n",
    "            \"Sales tax:\", sales_tax,\n",
    "            \"Total cost:\", cost_of_event+sales_tax\n",
    "                ) \n",
    "\n",
    "    if type == \"private\":\n",
    "        cost_of_event = (num_of_people*cost)\n",
    "        if cost_of_event > 1000:\n",
    "            sales_tax = (cost_of_event-1000)*tax_rate\n",
    "        else:\n",
    "            sales_tax = 0\n",
    "        return print(\n",
    "            \"Type of event:\", type,\n",
    "            \"Cost of event:\", cost_of_event,\n",
    "            \"Number of guests:\",num_of_people,\n",
    "            \"Cost per person:\", cost,\n",
    "            \"Sales tax:\", sales_tax,\n",
    "            \"Total cost:\", cost_of_event+sales_tax\n",
    "                ) \n",
    "\n",
    "    if type == \"corporate\":\n",
    "        cost_of_event = (num_of_people*cost)\n",
    "        sales_tax = cost_of_event*tax_rate\n",
    "        return print(\n",
    "            \"Type of event:\", type,\n",
    "            \"Cost of event:\", cost_of_event,\n",
    "            \"Number of guests:\",num_of_people,\n",
    "            \"Cost per person:\", cost,        \n",
    "            \"Sales tax:\", sales_tax,\n",
    "            \"Total cost:\", cost_of_event+sales_tax\n",
    "               )"
   ]
  }
 ],
 "metadata": {
  "kernelspec": {
   "display_name": "Python 3",
   "language": "python",
   "name": "python3"
  },
  "language_info": {
   "codemirror_mode": {
    "name": "ipython",
    "version": 3
   },
   "file_extension": ".py",
   "mimetype": "text/x-python",
   "name": "python",
   "nbconvert_exporter": "python",
   "pygments_lexer": "ipython3",
   "version": "3.9.0"
  }
 },
 "nbformat": 4,
 "nbformat_minor": 5
}
